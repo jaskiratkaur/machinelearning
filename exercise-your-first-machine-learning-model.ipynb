{
 "cells": [
  {
   "cell_type": "markdown",
   "id": "1cdd1573",
   "metadata": {
    "papermill": {
     "duration": 0.01538,
     "end_time": "2022-05-09T15:20:37.137457",
     "exception": false,
     "start_time": "2022-05-09T15:20:37.122077",
     "status": "completed"
    },
    "tags": []
   },
   "source": [
    "**This notebook is an exercise in the [Introduction to Machine Learning](https://www.kaggle.com/learn/intro-to-machine-learning) course.  You can reference the tutorial at [this link](https://www.kaggle.com/dansbecker/your-first-machine-learning-model).**\n",
    "\n",
    "---\n"
   ]
  },
  {
   "cell_type": "markdown",
   "id": "d498856b",
   "metadata": {
    "papermill": {
     "duration": 0.013527,
     "end_time": "2022-05-09T15:20:37.166071",
     "exception": false,
     "start_time": "2022-05-09T15:20:37.152544",
     "status": "completed"
    },
    "tags": []
   },
   "source": [
    "## Recap\n",
    "So far, you have loaded your data and reviewed it with the following code. Run this cell to set up your coding environment where the previous step left off."
   ]
  },
  {
   "cell_type": "code",
   "execution_count": 1,
   "id": "0b632d56",
   "metadata": {
    "execution": {
     "iopub.execute_input": "2022-05-09T15:20:37.196632Z",
     "iopub.status.busy": "2022-05-09T15:20:37.196246Z",
     "iopub.status.idle": "2022-05-09T15:20:38.632961Z",
     "shell.execute_reply": "2022-05-09T15:20:38.631615Z"
    },
    "papermill": {
     "duration": 1.454382,
     "end_time": "2022-05-09T15:20:38.635496",
     "exception": false,
     "start_time": "2022-05-09T15:20:37.181114",
     "status": "completed"
    },
    "tags": []
   },
   "outputs": [
    {
     "name": "stdout",
     "output_type": "stream",
     "text": [
      "Setup Complete\n"
     ]
    }
   ],
   "source": [
    "# Code you have previously used to load data\n",
    "import pandas as pd\n",
    "\n",
    "# Path of the file to read\n",
    "iowa_file_path = '../input/home-data-for-ml-course/train.csv'\n",
    "\n",
    "home_data = pd.read_csv(iowa_file_path)\n",
    "\n",
    "# Set up code checking\n",
    "from learntools.core import binder\n",
    "binder.bind(globals())\n",
    "from learntools.machine_learning.ex3 import *\n",
    "\n",
    "print(\"Setup Complete\")"
   ]
  },
  {
   "cell_type": "markdown",
   "id": "c9ea22f1",
   "metadata": {
    "papermill": {
     "duration": 0.013885,
     "end_time": "2022-05-09T15:20:38.664411",
     "exception": false,
     "start_time": "2022-05-09T15:20:38.650526",
     "status": "completed"
    },
    "tags": []
   },
   "source": [
    "# Exercises\n",
    "\n",
    "## Step 1: Specify Prediction Target\n",
    "Select the target variable, which corresponds to the sales price. Save this to a new variable called `y`. You'll need to print a list of the columns to find the name of the column you need.\n"
   ]
  },
  {
   "cell_type": "code",
   "execution_count": 2,
   "id": "16b78bde",
   "metadata": {
    "collapsed": true,
    "execution": {
     "iopub.execute_input": "2022-05-09T15:20:38.694733Z",
     "iopub.status.busy": "2022-05-09T15:20:38.694427Z",
     "iopub.status.idle": "2022-05-09T15:20:38.698368Z",
     "shell.execute_reply": "2022-05-09T15:20:38.697543Z"
    },
    "jupyter": {
     "outputs_hidden": true
    },
    "papermill": {
     "duration": 0.021764,
     "end_time": "2022-05-09T15:20:38.700310",
     "exception": false,
     "start_time": "2022-05-09T15:20:38.678546",
     "status": "completed"
    },
    "tags": []
   },
   "outputs": [],
   "source": [
    "# print the list of columns in the dataset to find the name of the prediction target\n"
   ]
  },
  {
   "cell_type": "code",
   "execution_count": 3,
   "id": "8654804a",
   "metadata": {
    "execution": {
     "iopub.execute_input": "2022-05-09T15:20:38.731803Z",
     "iopub.status.busy": "2022-05-09T15:20:38.731502Z",
     "iopub.status.idle": "2022-05-09T15:20:38.746469Z",
     "shell.execute_reply": "2022-05-09T15:20:38.745841Z"
    },
    "papermill": {
     "duration": 0.033324,
     "end_time": "2022-05-09T15:20:38.748233",
     "exception": false,
     "start_time": "2022-05-09T15:20:38.714909",
     "status": "completed"
    },
    "tags": []
   },
   "outputs": [
    {
     "data": {
      "application/javascript": [
       "parent.postMessage({\"jupyterEvent\": \"custom.exercise_interaction\", \"data\": {\"outcomeType\": 1, \"valueTowardsCompletion\": 0.25, \"interactionType\": 1, \"questionType\": 2, \"questionId\": \"1_SetTarget\", \"learnToolsVersion\": \"0.3.4\", \"failureMessage\": \"\", \"exceptionClass\": \"\", \"trace\": \"\"}}, \"*\")"
      ],
      "text/plain": [
       "<IPython.core.display.Javascript object>"
      ]
     },
     "metadata": {},
     "output_type": "display_data"
    },
    {
     "data": {
      "text/markdown": [
       "<span style=\"color:#33cc33\">Correct</span>"
      ],
      "text/plain": [
       "Correct"
      ]
     },
     "metadata": {},
     "output_type": "display_data"
    }
   ],
   "source": [
    "y = home_data.SalePrice\n",
    "\n",
    "# Check your answer\n",
    "step_1.check()"
   ]
  },
  {
   "cell_type": "code",
   "execution_count": 4,
   "id": "8f217758",
   "metadata": {
    "execution": {
     "iopub.execute_input": "2022-05-09T15:20:38.781327Z",
     "iopub.status.busy": "2022-05-09T15:20:38.780384Z",
     "iopub.status.idle": "2022-05-09T15:20:38.784072Z",
     "shell.execute_reply": "2022-05-09T15:20:38.783419Z"
    },
    "papermill": {
     "duration": 0.022005,
     "end_time": "2022-05-09T15:20:38.785918",
     "exception": false,
     "start_time": "2022-05-09T15:20:38.763913",
     "status": "completed"
    },
    "tags": []
   },
   "outputs": [],
   "source": [
    "# The lines below will show you a hint or the solution.\n",
    "# step_1.hint() \n",
    "#step_1.solution()"
   ]
  },
  {
   "cell_type": "markdown",
   "id": "0ee82027",
   "metadata": {
    "papermill": {
     "duration": 0.014993,
     "end_time": "2022-05-09T15:20:38.815930",
     "exception": false,
     "start_time": "2022-05-09T15:20:38.800937",
     "status": "completed"
    },
    "tags": []
   },
   "source": [
    "## Step 2: Create X\n",
    "Now you will create a DataFrame called `X` holding the predictive features.\n",
    "\n",
    "Since you want only some columns from the original data, you'll first create a list with the names of the columns you want in `X`.\n",
    "\n",
    "You'll use just the following columns in the list (you can copy and paste the whole list to save some typing, though you'll still need to add quotes):\n",
    "  * LotArea\n",
    "  * YearBuilt\n",
    "  * 1stFlrSF\n",
    "  * 2ndFlrSF\n",
    "  * FullBath\n",
    "  * BedroomAbvGr\n",
    "  * TotRmsAbvGrd\n",
    "\n",
    "After you've created that list of features, use it to create the DataFrame that you'll use to fit the model."
   ]
  },
  {
   "cell_type": "code",
   "execution_count": 5,
   "id": "e7463673",
   "metadata": {
    "execution": {
     "iopub.execute_input": "2022-05-09T15:20:38.847815Z",
     "iopub.status.busy": "2022-05-09T15:20:38.847541Z",
     "iopub.status.idle": "2022-05-09T15:20:38.861120Z",
     "shell.execute_reply": "2022-05-09T15:20:38.860512Z"
    },
    "papermill": {
     "duration": 0.031944,
     "end_time": "2022-05-09T15:20:38.863318",
     "exception": false,
     "start_time": "2022-05-09T15:20:38.831374",
     "status": "completed"
    },
    "tags": []
   },
   "outputs": [
    {
     "data": {
      "application/javascript": [
       "parent.postMessage({\"jupyterEvent\": \"custom.exercise_interaction\", \"data\": {\"outcomeType\": 1, \"valueTowardsCompletion\": 0.25, \"interactionType\": 1, \"questionType\": 2, \"questionId\": \"2_SelectPredictionData\", \"learnToolsVersion\": \"0.3.4\", \"failureMessage\": \"\", \"exceptionClass\": \"\", \"trace\": \"\"}}, \"*\")"
      ],
      "text/plain": [
       "<IPython.core.display.Javascript object>"
      ]
     },
     "metadata": {},
     "output_type": "display_data"
    },
    {
     "data": {
      "text/markdown": [
       "<span style=\"color:#33cc33\">Correct</span>"
      ],
      "text/plain": [
       "Correct"
      ]
     },
     "metadata": {},
     "output_type": "display_data"
    }
   ],
   "source": [
    "# Create the list of features below\n",
    "\n",
    "\n",
    "# Select data corresponding to features in feature_names\n",
    "feature_names = [\"LotArea\", \"YearBuilt\", \"1stFlrSF\", \"2ndFlrSF\",\n",
    "                      \"FullBath\", \"BedroomAbvGr\", \"TotRmsAbvGrd\"]\n",
    "\n",
    "X= home_data[feature_names]\n",
    "\n",
    "# Check your answer\n",
    "step_2.check()"
   ]
  },
  {
   "cell_type": "code",
   "execution_count": 6,
   "id": "c3a3ad8c",
   "metadata": {
    "execution": {
     "iopub.execute_input": "2022-05-09T15:20:38.899066Z",
     "iopub.status.busy": "2022-05-09T15:20:38.898362Z",
     "iopub.status.idle": "2022-05-09T15:20:38.901502Z",
     "shell.execute_reply": "2022-05-09T15:20:38.900849Z"
    },
    "papermill": {
     "duration": 0.022826,
     "end_time": "2022-05-09T15:20:38.903924",
     "exception": false,
     "start_time": "2022-05-09T15:20:38.881098",
     "status": "completed"
    },
    "tags": []
   },
   "outputs": [],
   "source": [
    "# step_2.hint()\n",
    "#step_2.solution()"
   ]
  },
  {
   "cell_type": "markdown",
   "id": "78658293",
   "metadata": {
    "papermill": {
     "duration": 0.017374,
     "end_time": "2022-05-09T15:20:38.938455",
     "exception": false,
     "start_time": "2022-05-09T15:20:38.921081",
     "status": "completed"
    },
    "tags": []
   },
   "source": [
    "## Review Data\n",
    "Before building a model, take a quick look at **X** to verify it looks sensible"
   ]
  },
  {
   "cell_type": "code",
   "execution_count": 7,
   "id": "d9ff0b5f",
   "metadata": {
    "collapsed": true,
    "execution": {
     "iopub.execute_input": "2022-05-09T15:20:38.972275Z",
     "iopub.status.busy": "2022-05-09T15:20:38.971881Z",
     "iopub.status.idle": "2022-05-09T15:20:38.974878Z",
     "shell.execute_reply": "2022-05-09T15:20:38.974101Z"
    },
    "jupyter": {
     "outputs_hidden": true
    },
    "papermill": {
     "duration": 0.022075,
     "end_time": "2022-05-09T15:20:38.976676",
     "exception": false,
     "start_time": "2022-05-09T15:20:38.954601",
     "status": "completed"
    },
    "tags": []
   },
   "outputs": [],
   "source": [
    "# Review data\n",
    "# print description or statistics from X\n",
    "#print(_)\n",
    "\n",
    "# print the top few lines\n",
    "#print(_)"
   ]
  },
  {
   "cell_type": "markdown",
   "id": "eaad59d0",
   "metadata": {
    "papermill": {
     "duration": 0.01718,
     "end_time": "2022-05-09T15:20:39.010208",
     "exception": false,
     "start_time": "2022-05-09T15:20:38.993028",
     "status": "completed"
    },
    "tags": []
   },
   "source": [
    "## Step 3: Specify and Fit Model\n",
    "Create a `DecisionTreeRegressor` and save it iowa_model. Ensure you've done the relevant import from sklearn to run this command.\n",
    "\n",
    "Then fit the model you just created using the data in `X` and `y` that you saved above."
   ]
  },
  {
   "cell_type": "code",
   "execution_count": 8,
   "id": "a07e6f51",
   "metadata": {
    "execution": {
     "iopub.execute_input": "2022-05-09T15:20:39.044393Z",
     "iopub.status.busy": "2022-05-09T15:20:39.044094Z",
     "iopub.status.idle": "2022-05-09T15:20:39.060665Z",
     "shell.execute_reply": "2022-05-09T15:20:39.060108Z"
    },
    "papermill": {
     "duration": 0.035569,
     "end_time": "2022-05-09T15:20:39.062253",
     "exception": false,
     "start_time": "2022-05-09T15:20:39.026684",
     "status": "completed"
    },
    "tags": []
   },
   "outputs": [
    {
     "data": {
      "application/javascript": [
       "parent.postMessage({\"jupyterEvent\": \"custom.exercise_interaction\", \"data\": {\"outcomeType\": 1, \"valueTowardsCompletion\": 0.25, \"interactionType\": 1, \"questionType\": 2, \"questionId\": \"3_CreateModel\", \"learnToolsVersion\": \"0.3.4\", \"failureMessage\": \"\", \"exceptionClass\": \"\", \"trace\": \"\"}}, \"*\")"
      ],
      "text/plain": [
       "<IPython.core.display.Javascript object>"
      ]
     },
     "metadata": {},
     "output_type": "display_data"
    },
    {
     "data": {
      "text/markdown": [
       "<span style=\"color:#33cc33\">Correct</span>"
      ],
      "text/plain": [
       "Correct"
      ]
     },
     "metadata": {},
     "output_type": "display_data"
    }
   ],
   "source": [
    "# from _ import _\n",
    "#specify the model. \n",
    "#For model reproducibility, set a numeric value for random_state when specifying the model\n",
    "from sklearn.tree import DecisionTreeRegressor\n",
    "iowa_model = DecisionTreeRegressor(random_state=1)\n",
    "iowa_model.fit(X, y)\n",
    "\n",
    "# Fit the model\n",
    "\n",
    "\n",
    "# Check your answer\n",
    "step_3.check()"
   ]
  },
  {
   "cell_type": "code",
   "execution_count": 9,
   "id": "71bf4b3e",
   "metadata": {
    "execution": {
     "iopub.execute_input": "2022-05-09T15:20:39.097566Z",
     "iopub.status.busy": "2022-05-09T15:20:39.097291Z",
     "iopub.status.idle": "2022-05-09T15:20:39.099930Z",
     "shell.execute_reply": "2022-05-09T15:20:39.099401Z"
    },
    "papermill": {
     "duration": 0.022519,
     "end_time": "2022-05-09T15:20:39.101689",
     "exception": false,
     "start_time": "2022-05-09T15:20:39.079170",
     "status": "completed"
    },
    "tags": []
   },
   "outputs": [],
   "source": [
    "# step_3.hint()\n",
    "#step_3.solution()"
   ]
  },
  {
   "cell_type": "markdown",
   "id": "8b514671",
   "metadata": {
    "papermill": {
     "duration": 0.016513,
     "end_time": "2022-05-09T15:20:39.135299",
     "exception": false,
     "start_time": "2022-05-09T15:20:39.118786",
     "status": "completed"
    },
    "tags": []
   },
   "source": [
    "## Step 4: Make Predictions\n",
    "Make predictions with the model's `predict` command using `X` as the data. Save the results to a variable called `predictions`."
   ]
  },
  {
   "cell_type": "code",
   "execution_count": 10,
   "id": "b295665c",
   "metadata": {
    "execution": {
     "iopub.execute_input": "2022-05-09T15:20:39.171281Z",
     "iopub.status.busy": "2022-05-09T15:20:39.171001Z",
     "iopub.status.idle": "2022-05-09T15:20:39.184244Z",
     "shell.execute_reply": "2022-05-09T15:20:39.183178Z"
    },
    "papermill": {
     "duration": 0.033787,
     "end_time": "2022-05-09T15:20:39.186399",
     "exception": false,
     "start_time": "2022-05-09T15:20:39.152612",
     "status": "completed"
    },
    "tags": []
   },
   "outputs": [
    {
     "name": "stdout",
     "output_type": "stream",
     "text": [
      "[208500. 181500. 223500. ... 266500. 142125. 147500.]\n"
     ]
    },
    {
     "data": {
      "application/javascript": [
       "parent.postMessage({\"jupyterEvent\": \"custom.exercise_interaction\", \"data\": {\"outcomeType\": 1, \"valueTowardsCompletion\": 0.25, \"interactionType\": 1, \"questionType\": 2, \"questionId\": \"4_MakePredictions\", \"learnToolsVersion\": \"0.3.4\", \"failureMessage\": \"\", \"exceptionClass\": \"\", \"trace\": \"\"}}, \"*\")"
      ],
      "text/plain": [
       "<IPython.core.display.Javascript object>"
      ]
     },
     "metadata": {},
     "output_type": "display_data"
    },
    {
     "data": {
      "text/markdown": [
       "<span style=\"color:#33cc33\">Correct</span>"
      ],
      "text/plain": [
       "Correct"
      ]
     },
     "metadata": {},
     "output_type": "display_data"
    }
   ],
   "source": [
    "predictions = iowa_model.predict(X)\n",
    "print(predictions)\n",
    "\n",
    "# Check your answer\n",
    "step_4.check()"
   ]
  },
  {
   "cell_type": "code",
   "execution_count": 11,
   "id": "e2bbab8d",
   "metadata": {
    "execution": {
     "iopub.execute_input": "2022-05-09T15:20:39.224362Z",
     "iopub.status.busy": "2022-05-09T15:20:39.224091Z",
     "iopub.status.idle": "2022-05-09T15:20:39.227534Z",
     "shell.execute_reply": "2022-05-09T15:20:39.226568Z"
    },
    "papermill": {
     "duration": 0.024833,
     "end_time": "2022-05-09T15:20:39.229470",
     "exception": false,
     "start_time": "2022-05-09T15:20:39.204637",
     "status": "completed"
    },
    "tags": []
   },
   "outputs": [],
   "source": [
    "# step_4.hint()\n",
    "#step_4.solution()"
   ]
  },
  {
   "cell_type": "markdown",
   "id": "c08a6ef0",
   "metadata": {
    "papermill": {
     "duration": 0.017957,
     "end_time": "2022-05-09T15:20:39.265694",
     "exception": false,
     "start_time": "2022-05-09T15:20:39.247737",
     "status": "completed"
    },
    "tags": []
   },
   "source": [
    "## Think About Your Results\n",
    "\n",
    "Use the `head` method to compare the top few predictions to the actual home values (in `y`) for those same homes. Anything surprising?\n"
   ]
  },
  {
   "cell_type": "code",
   "execution_count": 12,
   "id": "455fb880",
   "metadata": {
    "execution": {
     "iopub.execute_input": "2022-05-09T15:20:39.305937Z",
     "iopub.status.busy": "2022-05-09T15:20:39.305674Z",
     "iopub.status.idle": "2022-05-09T15:20:39.309410Z",
     "shell.execute_reply": "2022-05-09T15:20:39.308514Z"
    },
    "papermill": {
     "duration": 0.025816,
     "end_time": "2022-05-09T15:20:39.311329",
     "exception": false,
     "start_time": "2022-05-09T15:20:39.285513",
     "status": "completed"
    },
    "tags": []
   },
   "outputs": [],
   "source": [
    "# You can write code in this cell\n"
   ]
  },
  {
   "cell_type": "markdown",
   "id": "ca067c55",
   "metadata": {
    "papermill": {
     "duration": 0.018783,
     "end_time": "2022-05-09T15:20:39.348410",
     "exception": false,
     "start_time": "2022-05-09T15:20:39.329627",
     "status": "completed"
    },
    "tags": []
   },
   "source": [
    "It's natural to ask how accurate the model's predictions will be and how you can improve that. That will be you're next step.\n",
    "\n",
    "# Keep Going\n",
    "\n",
    "You are ready for **[Model Validation](https://www.kaggle.com/dansbecker/model-validation).**\n"
   ]
  },
  {
   "cell_type": "markdown",
   "id": "57361009",
   "metadata": {
    "papermill": {
     "duration": 0.018662,
     "end_time": "2022-05-09T15:20:39.386150",
     "exception": false,
     "start_time": "2022-05-09T15:20:39.367488",
     "status": "completed"
    },
    "tags": []
   },
   "source": [
    "---\n",
    "\n",
    "\n",
    "\n",
    "\n",
    "*Have questions or comments? Visit the [course discussion forum](https://www.kaggle.com/learn/intro-to-machine-learning/discussion) to chat with other learners.*"
   ]
  }
 ],
 "metadata": {
  "kernelspec": {
   "display_name": "Python 3",
   "language": "python",
   "name": "python3"
  },
  "language_info": {
   "codemirror_mode": {
    "name": "ipython",
    "version": 3
   },
   "file_extension": ".py",
   "mimetype": "text/x-python",
   "name": "python",
   "nbconvert_exporter": "python",
   "pygments_lexer": "ipython3",
   "version": "3.7.12"
  },
  "papermill": {
   "default_parameters": {},
   "duration": 12.043339,
   "end_time": "2022-05-09T15:20:40.126920",
   "environment_variables": {},
   "exception": null,
   "input_path": "__notebook__.ipynb",
   "output_path": "__notebook__.ipynb",
   "parameters": {},
   "start_time": "2022-05-09T15:20:28.083581",
   "version": "2.3.4"
  }
 },
 "nbformat": 4,
 "nbformat_minor": 5
}
