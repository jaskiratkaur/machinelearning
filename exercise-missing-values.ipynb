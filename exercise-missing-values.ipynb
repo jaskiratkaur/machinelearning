{
 "cells": [
  {
   "cell_type": "markdown",
   "id": "b5a37921",
   "metadata": {
    "papermill": {
     "duration": 0.034703,
     "end_time": "2022-05-11T15:10:34.459488",
     "exception": false,
     "start_time": "2022-05-11T15:10:34.424785",
     "status": "completed"
    },
    "tags": []
   },
   "source": [
    "**This notebook is an exercise in the [Intermediate Machine Learning](https://www.kaggle.com/learn/intermediate-machine-learning) course.  You can reference the tutorial at [this link](https://www.kaggle.com/alexisbcook/missing-values).**\n",
    "\n",
    "---\n"
   ]
  },
  {
   "cell_type": "markdown",
   "id": "cd5066a4",
   "metadata": {
    "papermill": {
     "duration": 0.034542,
     "end_time": "2022-05-11T15:10:34.527560",
     "exception": false,
     "start_time": "2022-05-11T15:10:34.493018",
     "status": "completed"
    },
    "tags": []
   },
   "source": [
    "Now it's your turn to test your new knowledge of **missing values** handling. You'll probably find it makes a big difference.\n",
    "\n",
    "# Setup\n",
    "\n",
    "The questions will give you feedback on your work. Run the following cell to set up the feedback system."
   ]
  },
  {
   "cell_type": "code",
   "execution_count": 1,
   "id": "901646c8",
   "metadata": {
    "execution": {
     "iopub.execute_input": "2022-05-11T15:10:34.598035Z",
     "iopub.status.busy": "2022-05-11T15:10:34.597566Z",
     "iopub.status.idle": "2022-05-11T15:10:34.647770Z",
     "shell.execute_reply": "2022-05-11T15:10:34.647101Z"
    },
    "papermill": {
     "duration": 0.08787,
     "end_time": "2022-05-11T15:10:34.649994",
     "exception": false,
     "start_time": "2022-05-11T15:10:34.562124",
     "status": "completed"
    },
    "tags": []
   },
   "outputs": [
    {
     "name": "stdout",
     "output_type": "stream",
     "text": [
      "Setup Complete\n"
     ]
    }
   ],
   "source": [
    "# Set up code checking\n",
    "import os\n",
    "if not os.path.exists(\"../input/train.csv\"):\n",
    "    os.symlink(\"../input/home-data-for-ml-course/train.csv\", \"../input/train.csv\")  \n",
    "    os.symlink(\"../input/home-data-for-ml-course/test.csv\", \"../input/test.csv\") \n",
    "from learntools.core import binder\n",
    "binder.bind(globals())\n",
    "from learntools.ml_intermediate.ex2 import *\n",
    "print(\"Setup Complete\")"
   ]
  },
  {
   "cell_type": "markdown",
   "id": "9574933b",
   "metadata": {
    "papermill": {
     "duration": 0.033842,
     "end_time": "2022-05-11T15:10:34.718113",
     "exception": false,
     "start_time": "2022-05-11T15:10:34.684271",
     "status": "completed"
    },
    "tags": []
   },
   "source": [
    "In this exercise, you will work with data from the [Housing Prices Competition for Kaggle Learn Users](https://www.kaggle.com/c/home-data-for-ml-course). \n",
    "\n",
    "![Ames Housing dataset image](https://i.imgur.com/lTJVG4e.png)\n",
    "\n",
    "Run the next code cell without changes to load the training and validation sets in `X_train`, `X_valid`, `y_train`, and `y_valid`.  The test set is loaded in `X_test`."
   ]
  },
  {
   "cell_type": "code",
   "execution_count": 2,
   "id": "fb984efa",
   "metadata": {
    "execution": {
     "iopub.execute_input": "2022-05-11T15:10:34.789298Z",
     "iopub.status.busy": "2022-05-11T15:10:34.788450Z",
     "iopub.status.idle": "2022-05-11T15:10:36.004741Z",
     "shell.execute_reply": "2022-05-11T15:10:36.003728Z"
    },
    "papermill": {
     "duration": 1.255322,
     "end_time": "2022-05-11T15:10:36.007169",
     "exception": false,
     "start_time": "2022-05-11T15:10:34.751847",
     "status": "completed"
    },
    "tags": []
   },
   "outputs": [],
   "source": [
    "import pandas as pd\n",
    "from sklearn.model_selection import train_test_split\n",
    "\n",
    "# Read the data\n",
    "X_full = pd.read_csv('../input/train.csv', index_col='Id')\n",
    "X_test_full = pd.read_csv('../input/test.csv', index_col='Id')\n",
    "\n",
    "# Remove rows with missing target, separate target from predictors\n",
    "X_full.dropna(axis=0, subset=['SalePrice'], inplace=True)\n",
    "y = X_full.SalePrice\n",
    "X_full.drop(['SalePrice'], axis=1, inplace=True)\n",
    "\n",
    "# To keep things simple, we'll use only numerical predictors\n",
    "X = X_full.select_dtypes(exclude=['object'])\n",
    "X_test = X_test_full.select_dtypes(exclude=['object'])\n",
    "\n",
    "# Break off validation set from training data\n",
    "X_train, X_valid, y_train, y_valid = train_test_split(X, y, train_size=0.8, test_size=0.2,\n",
    "                                                      random_state=0)"
   ]
  },
  {
   "cell_type": "markdown",
   "id": "ad4b4f58",
   "metadata": {
    "papermill": {
     "duration": 0.03438,
     "end_time": "2022-05-11T15:10:36.076010",
     "exception": false,
     "start_time": "2022-05-11T15:10:36.041630",
     "status": "completed"
    },
    "tags": []
   },
   "source": [
    "Use the next code cell to print the first five rows of the data."
   ]
  },
  {
   "cell_type": "code",
   "execution_count": 3,
   "id": "a59ea32f",
   "metadata": {
    "execution": {
     "iopub.execute_input": "2022-05-11T15:10:36.146843Z",
     "iopub.status.busy": "2022-05-11T15:10:36.146533Z",
     "iopub.status.idle": "2022-05-11T15:10:36.173544Z",
     "shell.execute_reply": "2022-05-11T15:10:36.172648Z"
    },
    "papermill": {
     "duration": 0.064747,
     "end_time": "2022-05-11T15:10:36.176066",
     "exception": false,
     "start_time": "2022-05-11T15:10:36.111319",
     "status": "completed"
    },
    "tags": []
   },
   "outputs": [
    {
     "data": {
      "text/html": [
       "<div>\n",
       "<style scoped>\n",
       "    .dataframe tbody tr th:only-of-type {\n",
       "        vertical-align: middle;\n",
       "    }\n",
       "\n",
       "    .dataframe tbody tr th {\n",
       "        vertical-align: top;\n",
       "    }\n",
       "\n",
       "    .dataframe thead th {\n",
       "        text-align: right;\n",
       "    }\n",
       "</style>\n",
       "<table border=\"1\" class=\"dataframe\">\n",
       "  <thead>\n",
       "    <tr style=\"text-align: right;\">\n",
       "      <th></th>\n",
       "      <th>MSSubClass</th>\n",
       "      <th>LotFrontage</th>\n",
       "      <th>LotArea</th>\n",
       "      <th>OverallQual</th>\n",
       "      <th>OverallCond</th>\n",
       "      <th>YearBuilt</th>\n",
       "      <th>YearRemodAdd</th>\n",
       "      <th>MasVnrArea</th>\n",
       "      <th>BsmtFinSF1</th>\n",
       "      <th>BsmtFinSF2</th>\n",
       "      <th>...</th>\n",
       "      <th>GarageArea</th>\n",
       "      <th>WoodDeckSF</th>\n",
       "      <th>OpenPorchSF</th>\n",
       "      <th>EnclosedPorch</th>\n",
       "      <th>3SsnPorch</th>\n",
       "      <th>ScreenPorch</th>\n",
       "      <th>PoolArea</th>\n",
       "      <th>MiscVal</th>\n",
       "      <th>MoSold</th>\n",
       "      <th>YrSold</th>\n",
       "    </tr>\n",
       "    <tr>\n",
       "      <th>Id</th>\n",
       "      <th></th>\n",
       "      <th></th>\n",
       "      <th></th>\n",
       "      <th></th>\n",
       "      <th></th>\n",
       "      <th></th>\n",
       "      <th></th>\n",
       "      <th></th>\n",
       "      <th></th>\n",
       "      <th></th>\n",
       "      <th></th>\n",
       "      <th></th>\n",
       "      <th></th>\n",
       "      <th></th>\n",
       "      <th></th>\n",
       "      <th></th>\n",
       "      <th></th>\n",
       "      <th></th>\n",
       "      <th></th>\n",
       "      <th></th>\n",
       "      <th></th>\n",
       "    </tr>\n",
       "  </thead>\n",
       "  <tbody>\n",
       "    <tr>\n",
       "      <th>619</th>\n",
       "      <td>20</td>\n",
       "      <td>90.0</td>\n",
       "      <td>11694</td>\n",
       "      <td>9</td>\n",
       "      <td>5</td>\n",
       "      <td>2007</td>\n",
       "      <td>2007</td>\n",
       "      <td>452.0</td>\n",
       "      <td>48</td>\n",
       "      <td>0</td>\n",
       "      <td>...</td>\n",
       "      <td>774</td>\n",
       "      <td>0</td>\n",
       "      <td>108</td>\n",
       "      <td>0</td>\n",
       "      <td>0</td>\n",
       "      <td>260</td>\n",
       "      <td>0</td>\n",
       "      <td>0</td>\n",
       "      <td>7</td>\n",
       "      <td>2007</td>\n",
       "    </tr>\n",
       "    <tr>\n",
       "      <th>871</th>\n",
       "      <td>20</td>\n",
       "      <td>60.0</td>\n",
       "      <td>6600</td>\n",
       "      <td>5</td>\n",
       "      <td>5</td>\n",
       "      <td>1962</td>\n",
       "      <td>1962</td>\n",
       "      <td>0.0</td>\n",
       "      <td>0</td>\n",
       "      <td>0</td>\n",
       "      <td>...</td>\n",
       "      <td>308</td>\n",
       "      <td>0</td>\n",
       "      <td>0</td>\n",
       "      <td>0</td>\n",
       "      <td>0</td>\n",
       "      <td>0</td>\n",
       "      <td>0</td>\n",
       "      <td>0</td>\n",
       "      <td>8</td>\n",
       "      <td>2009</td>\n",
       "    </tr>\n",
       "    <tr>\n",
       "      <th>93</th>\n",
       "      <td>30</td>\n",
       "      <td>80.0</td>\n",
       "      <td>13360</td>\n",
       "      <td>5</td>\n",
       "      <td>7</td>\n",
       "      <td>1921</td>\n",
       "      <td>2006</td>\n",
       "      <td>0.0</td>\n",
       "      <td>713</td>\n",
       "      <td>0</td>\n",
       "      <td>...</td>\n",
       "      <td>432</td>\n",
       "      <td>0</td>\n",
       "      <td>0</td>\n",
       "      <td>44</td>\n",
       "      <td>0</td>\n",
       "      <td>0</td>\n",
       "      <td>0</td>\n",
       "      <td>0</td>\n",
       "      <td>8</td>\n",
       "      <td>2009</td>\n",
       "    </tr>\n",
       "    <tr>\n",
       "      <th>818</th>\n",
       "      <td>20</td>\n",
       "      <td>NaN</td>\n",
       "      <td>13265</td>\n",
       "      <td>8</td>\n",
       "      <td>5</td>\n",
       "      <td>2002</td>\n",
       "      <td>2002</td>\n",
       "      <td>148.0</td>\n",
       "      <td>1218</td>\n",
       "      <td>0</td>\n",
       "      <td>...</td>\n",
       "      <td>857</td>\n",
       "      <td>150</td>\n",
       "      <td>59</td>\n",
       "      <td>0</td>\n",
       "      <td>0</td>\n",
       "      <td>0</td>\n",
       "      <td>0</td>\n",
       "      <td>0</td>\n",
       "      <td>7</td>\n",
       "      <td>2008</td>\n",
       "    </tr>\n",
       "    <tr>\n",
       "      <th>303</th>\n",
       "      <td>20</td>\n",
       "      <td>118.0</td>\n",
       "      <td>13704</td>\n",
       "      <td>7</td>\n",
       "      <td>5</td>\n",
       "      <td>2001</td>\n",
       "      <td>2002</td>\n",
       "      <td>150.0</td>\n",
       "      <td>0</td>\n",
       "      <td>0</td>\n",
       "      <td>...</td>\n",
       "      <td>843</td>\n",
       "      <td>468</td>\n",
       "      <td>81</td>\n",
       "      <td>0</td>\n",
       "      <td>0</td>\n",
       "      <td>0</td>\n",
       "      <td>0</td>\n",
       "      <td>0</td>\n",
       "      <td>1</td>\n",
       "      <td>2006</td>\n",
       "    </tr>\n",
       "  </tbody>\n",
       "</table>\n",
       "<p>5 rows × 36 columns</p>\n",
       "</div>"
      ],
      "text/plain": [
       "     MSSubClass  LotFrontage  LotArea  OverallQual  OverallCond  YearBuilt  \\\n",
       "Id                                                                           \n",
       "619          20         90.0    11694            9            5       2007   \n",
       "871          20         60.0     6600            5            5       1962   \n",
       "93           30         80.0    13360            5            7       1921   \n",
       "818          20          NaN    13265            8            5       2002   \n",
       "303          20        118.0    13704            7            5       2001   \n",
       "\n",
       "     YearRemodAdd  MasVnrArea  BsmtFinSF1  BsmtFinSF2  ...  GarageArea  \\\n",
       "Id                                                     ...               \n",
       "619          2007       452.0          48           0  ...         774   \n",
       "871          1962         0.0           0           0  ...         308   \n",
       "93           2006         0.0         713           0  ...         432   \n",
       "818          2002       148.0        1218           0  ...         857   \n",
       "303          2002       150.0           0           0  ...         843   \n",
       "\n",
       "     WoodDeckSF  OpenPorchSF  EnclosedPorch  3SsnPorch  ScreenPorch  PoolArea  \\\n",
       "Id                                                                              \n",
       "619           0          108              0          0          260         0   \n",
       "871           0            0              0          0            0         0   \n",
       "93            0            0             44          0            0         0   \n",
       "818         150           59              0          0            0         0   \n",
       "303         468           81              0          0            0         0   \n",
       "\n",
       "     MiscVal  MoSold  YrSold  \n",
       "Id                            \n",
       "619        0       7    2007  \n",
       "871        0       8    2009  \n",
       "93         0       8    2009  \n",
       "818        0       7    2008  \n",
       "303        0       1    2006  \n",
       "\n",
       "[5 rows x 36 columns]"
      ]
     },
     "execution_count": 3,
     "metadata": {},
     "output_type": "execute_result"
    }
   ],
   "source": [
    "X_train.head()"
   ]
  },
  {
   "cell_type": "markdown",
   "id": "2508481e",
   "metadata": {
    "papermill": {
     "duration": 0.034133,
     "end_time": "2022-05-11T15:10:36.244859",
     "exception": false,
     "start_time": "2022-05-11T15:10:36.210726",
     "status": "completed"
    },
    "tags": []
   },
   "source": [
    "You can already see a few missing values in the first several rows.  In the next step, you'll obtain a more comprehensive understanding of the missing values in the dataset.\n",
    "\n",
    "# Step 1: Preliminary investigation\n",
    "\n",
    "Run the code cell below without changes."
   ]
  },
  {
   "cell_type": "code",
   "execution_count": 4,
   "id": "8e92e3bb",
   "metadata": {
    "execution": {
     "iopub.execute_input": "2022-05-11T15:10:36.315624Z",
     "iopub.status.busy": "2022-05-11T15:10:36.314888Z",
     "iopub.status.idle": "2022-05-11T15:10:36.323422Z",
     "shell.execute_reply": "2022-05-11T15:10:36.322479Z"
    },
    "papermill": {
     "duration": 0.04618,
     "end_time": "2022-05-11T15:10:36.325481",
     "exception": false,
     "start_time": "2022-05-11T15:10:36.279301",
     "status": "completed"
    },
    "tags": []
   },
   "outputs": [
    {
     "name": "stdout",
     "output_type": "stream",
     "text": [
      "(1168, 36)\n",
      "LotFrontage    212\n",
      "MasVnrArea       6\n",
      "GarageYrBlt     58\n",
      "dtype: int64\n"
     ]
    }
   ],
   "source": [
    "# Shape of training data (num_rows, num_columns)\n",
    "print(X_train.shape)\n",
    "\n",
    "# Number of missing values in each column of training data\n",
    "missing_val_count_by_column = (X_train.isnull().sum())\n",
    "print(missing_val_count_by_column[missing_val_count_by_column > 0])"
   ]
  },
  {
   "cell_type": "markdown",
   "id": "1b413b05",
   "metadata": {
    "papermill": {
     "duration": 0.034441,
     "end_time": "2022-05-11T15:10:36.395440",
     "exception": false,
     "start_time": "2022-05-11T15:10:36.360999",
     "status": "completed"
    },
    "tags": []
   },
   "source": [
    "### Part A\n",
    "\n",
    "Use the above output to answer the questions below."
   ]
  },
  {
   "cell_type": "code",
   "execution_count": 5,
   "id": "b3d2d5e0",
   "metadata": {
    "execution": {
     "iopub.execute_input": "2022-05-11T15:10:36.466486Z",
     "iopub.status.busy": "2022-05-11T15:10:36.465889Z",
     "iopub.status.idle": "2022-05-11T15:10:36.473581Z",
     "shell.execute_reply": "2022-05-11T15:10:36.472982Z"
    },
    "papermill": {
     "duration": 0.045798,
     "end_time": "2022-05-11T15:10:36.475615",
     "exception": false,
     "start_time": "2022-05-11T15:10:36.429817",
     "status": "completed"
    },
    "tags": []
   },
   "outputs": [
    {
     "data": {
      "application/javascript": [
       "parent.postMessage({\"jupyterEvent\": \"custom.exercise_interaction\", \"data\": {\"outcomeType\": 2, \"failureMessage\": \"Incorrect value for `tot_missing`: `271`\", \"interactionType\": 1, \"questionType\": 1, \"questionId\": \"1.1_InvestigateEquality\", \"learnToolsVersion\": \"0.3.4\", \"valueTowardsCompletion\": 0.0, \"exceptionClass\": \"\", \"trace\": \"\"}}, \"*\")"
      ],
      "text/plain": [
       "<IPython.core.display.Javascript object>"
      ]
     },
     "metadata": {},
     "output_type": "display_data"
    },
    {
     "data": {
      "text/markdown": [
       "<span style=\"color:#cc3333\">Incorrect:</span> Incorrect value for `tot_missing`: `271`"
      ],
      "text/plain": [
       "Incorrect: Incorrect value for `tot_missing`: `271`"
      ]
     },
     "metadata": {},
     "output_type": "display_data"
    }
   ],
   "source": [
    "# Fill in the line below: How many rows are in the training data?\n",
    "num_rows = 1168\n",
    "\n",
    "# Fill in the line below: How many columns in the training data\n",
    "# have missing values?\n",
    "num_cols_with_missing = 3\n",
    "\n",
    "# Fill in the line below: How many missing entries are contained in \n",
    "# all of the training data?\n",
    "tot_missing = 271\n",
    "\n",
    "# Check your answers\n",
    "step_1.a.check()"
   ]
  },
  {
   "cell_type": "code",
   "execution_count": 6,
   "id": "3c2f7b89",
   "metadata": {
    "execution": {
     "iopub.execute_input": "2022-05-11T15:10:36.550742Z",
     "iopub.status.busy": "2022-05-11T15:10:36.550225Z",
     "iopub.status.idle": "2022-05-11T15:10:36.553352Z",
     "shell.execute_reply": "2022-05-11T15:10:36.552695Z"
    },
    "papermill": {
     "duration": 0.043154,
     "end_time": "2022-05-11T15:10:36.555219",
     "exception": false,
     "start_time": "2022-05-11T15:10:36.512065",
     "status": "completed"
    },
    "tags": []
   },
   "outputs": [],
   "source": [
    "# Lines below will give you a hint or solution code\n",
    "#step_1.a.hint()\n",
    "#step_1.a.solution()"
   ]
  },
  {
   "cell_type": "markdown",
   "id": "0f32505f",
   "metadata": {
    "papermill": {
     "duration": 0.035804,
     "end_time": "2022-05-11T15:10:36.627322",
     "exception": false,
     "start_time": "2022-05-11T15:10:36.591518",
     "status": "completed"
    },
    "tags": []
   },
   "source": [
    "### Part B\n",
    "Considering your answers above, what do you think is likely the best approach to dealing with the missing values?"
   ]
  },
  {
   "cell_type": "code",
   "execution_count": 7,
   "id": "c2fdad7d",
   "metadata": {
    "execution": {
     "iopub.execute_input": "2022-05-11T15:10:36.701766Z",
     "iopub.status.busy": "2022-05-11T15:10:36.701242Z",
     "iopub.status.idle": "2022-05-11T15:10:36.707609Z",
     "shell.execute_reply": "2022-05-11T15:10:36.707015Z"
    },
    "papermill": {
     "duration": 0.045615,
     "end_time": "2022-05-11T15:10:36.709484",
     "exception": false,
     "start_time": "2022-05-11T15:10:36.663869",
     "status": "completed"
    },
    "tags": []
   },
   "outputs": [
    {
     "data": {
      "application/javascript": [
       "parent.postMessage({\"jupyterEvent\": \"custom.exercise_interaction\", \"data\": {\"outcomeType\": 1, \"valueTowardsCompletion\": 1.0, \"interactionType\": 1, \"questionType\": 4, \"questionId\": \"1.2_InvestigateThought\", \"learnToolsVersion\": \"0.3.4\", \"failureMessage\": \"\", \"exceptionClass\": \"\", \"trace\": \"\"}}, \"*\")"
      ],
      "text/plain": [
       "<IPython.core.display.Javascript object>"
      ]
     },
     "metadata": {},
     "output_type": "display_data"
    },
    {
     "data": {
      "text/markdown": [
       "<span style=\"color:#33cc33\">Correct:</span> \n",
       "\n",
       "Since there are relatively few missing entries in the data (the column with the greatest percentage of missing values is missing less than 20% of its entries), we can expect that dropping columns is unlikely to yield good results.  This is because we'd be throwing away a lot of valuable data, and so imputation will likely perform better."
      ],
      "text/plain": [
       "Correct: \n",
       "\n",
       "Since there are relatively few missing entries in the data (the column with the greatest percentage of missing values is missing less than 20% of its entries), we can expect that dropping columns is unlikely to yield good results.  This is because we'd be throwing away a lot of valuable data, and so imputation will likely perform better."
      ]
     },
     "metadata": {},
     "output_type": "display_data"
    }
   ],
   "source": [
    "# Check your answer (Run this code cell to receive credit!)\n",
    "step_1.b.check()"
   ]
  },
  {
   "cell_type": "code",
   "execution_count": 8,
   "id": "39f450b3",
   "metadata": {
    "execution": {
     "iopub.execute_input": "2022-05-11T15:10:36.787049Z",
     "iopub.status.busy": "2022-05-11T15:10:36.786522Z",
     "iopub.status.idle": "2022-05-11T15:10:36.789693Z",
     "shell.execute_reply": "2022-05-11T15:10:36.789107Z"
    },
    "papermill": {
     "duration": 0.043496,
     "end_time": "2022-05-11T15:10:36.791668",
     "exception": false,
     "start_time": "2022-05-11T15:10:36.748172",
     "status": "completed"
    },
    "tags": []
   },
   "outputs": [],
   "source": [
    "#step_1.b.hint()"
   ]
  },
  {
   "cell_type": "markdown",
   "id": "e8cbf759",
   "metadata": {
    "papermill": {
     "duration": 0.038308,
     "end_time": "2022-05-11T15:10:36.868011",
     "exception": false,
     "start_time": "2022-05-11T15:10:36.829703",
     "status": "completed"
    },
    "tags": []
   },
   "source": [
    "To compare different approaches to dealing with missing values, you'll use the same `score_dataset()` function from the tutorial.  This function reports the [mean absolute error](https://en.wikipedia.org/wiki/Mean_absolute_error) (MAE) from a random forest model."
   ]
  },
  {
   "cell_type": "code",
   "execution_count": 9,
   "id": "45ae8cb0",
   "metadata": {
    "execution": {
     "iopub.execute_input": "2022-05-11T15:10:36.946543Z",
     "iopub.status.busy": "2022-05-11T15:10:36.945946Z",
     "iopub.status.idle": "2022-05-11T15:10:37.172065Z",
     "shell.execute_reply": "2022-05-11T15:10:37.171257Z"
    },
    "papermill": {
     "duration": 0.269736,
     "end_time": "2022-05-11T15:10:37.175064",
     "exception": false,
     "start_time": "2022-05-11T15:10:36.905328",
     "status": "completed"
    },
    "tags": []
   },
   "outputs": [],
   "source": [
    "from sklearn.ensemble import RandomForestRegressor\n",
    "from sklearn.metrics import mean_absolute_error\n",
    "\n",
    "# Function for comparing different approaches\n",
    "def score_dataset(X_train, X_valid, y_train, y_valid):\n",
    "    model = RandomForestRegressor(n_estimators=100, random_state=0)\n",
    "    model.fit(X_train, y_train)\n",
    "    preds = model.predict(X_valid)\n",
    "    return mean_absolute_error(y_valid, preds)"
   ]
  },
  {
   "cell_type": "markdown",
   "id": "5edfbbb5",
   "metadata": {
    "papermill": {
     "duration": 0.037132,
     "end_time": "2022-05-11T15:10:37.250930",
     "exception": false,
     "start_time": "2022-05-11T15:10:37.213798",
     "status": "completed"
    },
    "tags": []
   },
   "source": [
    "# Step 2: Drop columns with missing values\n",
    "\n",
    "In this step, you'll preprocess the data in `X_train` and `X_valid` to remove columns with missing values.  Set the preprocessed DataFrames to `reduced_X_train` and `reduced_X_valid`, respectively.  "
   ]
  },
  {
   "cell_type": "code",
   "execution_count": 10,
   "id": "d3105cc1",
   "metadata": {
    "execution": {
     "iopub.execute_input": "2022-05-11T15:10:37.327556Z",
     "iopub.status.busy": "2022-05-11T15:10:37.327290Z",
     "iopub.status.idle": "2022-05-11T15:10:37.353331Z",
     "shell.execute_reply": "2022-05-11T15:10:37.352774Z"
    },
    "papermill": {
     "duration": 0.066449,
     "end_time": "2022-05-11T15:10:37.355021",
     "exception": false,
     "start_time": "2022-05-11T15:10:37.288572",
     "status": "completed"
    },
    "tags": []
   },
   "outputs": [
    {
     "data": {
      "application/javascript": [
       "parent.postMessage({\"jupyterEvent\": \"custom.exercise_interaction\", \"data\": {\"outcomeType\": 1, \"valueTowardsCompletion\": 1.0, \"interactionType\": 1, \"questionType\": 2, \"questionId\": \"2_DropMissing\", \"learnToolsVersion\": \"0.3.4\", \"failureMessage\": \"\", \"exceptionClass\": \"\", \"trace\": \"\"}}, \"*\")"
      ],
      "text/plain": [
       "<IPython.core.display.Javascript object>"
      ]
     },
     "metadata": {},
     "output_type": "display_data"
    },
    {
     "data": {
      "text/markdown": [
       "<span style=\"color:#33cc33\">Correct</span>"
      ],
      "text/plain": [
       "Correct"
      ]
     },
     "metadata": {},
     "output_type": "display_data"
    }
   ],
   "source": [
    "# Fill in the line below: get names of columns with missing values\n",
    "cols_with_missing = [col for col in X_train.columns\n",
    "                     if X_train[col].isnull().any()] # Your code here\n",
    "\n",
    "# Fill in the lines below: drop columns in training and validation data\n",
    "reduced_X_train = X_train.drop(cols_with_missing, axis=1)\n",
    "reduced_X_valid = X_valid.drop(cols_with_missing, axis=1)\n",
    "\n",
    "# Check your answers\n",
    "step_2.check()"
   ]
  },
  {
   "cell_type": "code",
   "execution_count": 11,
   "id": "d500b139",
   "metadata": {
    "execution": {
     "iopub.execute_input": "2022-05-11T15:10:37.434134Z",
     "iopub.status.busy": "2022-05-11T15:10:37.433591Z",
     "iopub.status.idle": "2022-05-11T15:10:37.436618Z",
     "shell.execute_reply": "2022-05-11T15:10:37.436069Z"
    },
    "papermill": {
     "duration": 0.044826,
     "end_time": "2022-05-11T15:10:37.438438",
     "exception": false,
     "start_time": "2022-05-11T15:10:37.393612",
     "status": "completed"
    },
    "tags": []
   },
   "outputs": [],
   "source": [
    "# Lines below will give you a hint or solution code\n",
    "#step_2.hint()\n",
    "#step_2.solution()"
   ]
  },
  {
   "cell_type": "markdown",
   "id": "f10e0a37",
   "metadata": {
    "papermill": {
     "duration": 0.038335,
     "end_time": "2022-05-11T15:10:37.515392",
     "exception": false,
     "start_time": "2022-05-11T15:10:37.477057",
     "status": "completed"
    },
    "tags": []
   },
   "source": [
    "Run the next code cell without changes to obtain the MAE for this approach."
   ]
  },
  {
   "cell_type": "code",
   "execution_count": 12,
   "id": "91406b28",
   "metadata": {
    "execution": {
     "iopub.execute_input": "2022-05-11T15:10:37.595961Z",
     "iopub.status.busy": "2022-05-11T15:10:37.595359Z",
     "iopub.status.idle": "2022-05-11T15:10:38.730814Z",
     "shell.execute_reply": "2022-05-11T15:10:38.729715Z"
    },
    "papermill": {
     "duration": 1.179202,
     "end_time": "2022-05-11T15:10:38.733277",
     "exception": false,
     "start_time": "2022-05-11T15:10:37.554075",
     "status": "completed"
    },
    "tags": []
   },
   "outputs": [
    {
     "name": "stdout",
     "output_type": "stream",
     "text": [
      "MAE (Drop columns with missing values):\n",
      "17837.82570776256\n"
     ]
    }
   ],
   "source": [
    "print(\"MAE (Drop columns with missing values):\")\n",
    "print(score_dataset(reduced_X_train, reduced_X_valid, y_train, y_valid))"
   ]
  },
  {
   "cell_type": "markdown",
   "id": "4b0b4dcc",
   "metadata": {
    "papermill": {
     "duration": 0.039176,
     "end_time": "2022-05-11T15:10:38.812551",
     "exception": false,
     "start_time": "2022-05-11T15:10:38.773375",
     "status": "completed"
    },
    "tags": []
   },
   "source": [
    "# Step 3: Imputation\n",
    "\n",
    "### Part A\n",
    "\n",
    "Use the next code cell to impute missing values with the mean value along each column.  Set the preprocessed DataFrames to `imputed_X_train` and `imputed_X_valid`.  Make sure that the column names match those in `X_train` and `X_valid`."
   ]
  },
  {
   "cell_type": "code",
   "execution_count": 13,
   "id": "05cba68d",
   "metadata": {
    "execution": {
     "iopub.execute_input": "2022-05-11T15:10:38.896838Z",
     "iopub.status.busy": "2022-05-11T15:10:38.896271Z",
     "iopub.status.idle": "2022-05-11T15:10:38.930135Z",
     "shell.execute_reply": "2022-05-11T15:10:38.929202Z"
    },
    "papermill": {
     "duration": 0.078082,
     "end_time": "2022-05-11T15:10:38.932048",
     "exception": false,
     "start_time": "2022-05-11T15:10:38.853966",
     "status": "completed"
    },
    "tags": []
   },
   "outputs": [
    {
     "data": {
      "application/javascript": [
       "parent.postMessage({\"jupyterEvent\": \"custom.exercise_interaction\", \"data\": {\"outcomeType\": 1, \"valueTowardsCompletion\": 1.0, \"interactionType\": 1, \"questionType\": 2, \"questionId\": \"3.1_ImputeCode\", \"learnToolsVersion\": \"0.3.4\", \"failureMessage\": \"\", \"exceptionClass\": \"\", \"trace\": \"\"}}, \"*\")"
      ],
      "text/plain": [
       "<IPython.core.display.Javascript object>"
      ]
     },
     "metadata": {},
     "output_type": "display_data"
    },
    {
     "data": {
      "text/markdown": [
       "<span style=\"color:#33cc33\">Correct</span>"
      ],
      "text/plain": [
       "Correct"
      ]
     },
     "metadata": {},
     "output_type": "display_data"
    }
   ],
   "source": [
    "from sklearn.impute import SimpleImputer\n",
    "\n",
    "# Fill in the lines below: imputation\n",
    "my_imputer = SimpleImputer()\n",
    "imputed_X_train = pd.DataFrame(my_imputer.fit_transform(X_train))\n",
    "imputed_X_valid = pd.DataFrame(my_imputer.transform(X_valid)) # Your code here\n",
    "\n",
    "\n",
    "# Fill in the lines below: imputation removed column names; put them back\n",
    "imputed_X_train.columns = X_train.columns\n",
    "imputed_X_valid.columns = X_valid.columns\n",
    "\n",
    "# Check your answers\n",
    "step_3.a.check()"
   ]
  },
  {
   "cell_type": "code",
   "execution_count": 14,
   "id": "b1fe341d",
   "metadata": {
    "execution": {
     "iopub.execute_input": "2022-05-11T15:10:39.016065Z",
     "iopub.status.busy": "2022-05-11T15:10:39.015129Z",
     "iopub.status.idle": "2022-05-11T15:10:39.018706Z",
     "shell.execute_reply": "2022-05-11T15:10:39.018068Z"
    },
    "papermill": {
     "duration": 0.048126,
     "end_time": "2022-05-11T15:10:39.020794",
     "exception": false,
     "start_time": "2022-05-11T15:10:38.972668",
     "status": "completed"
    },
    "tags": []
   },
   "outputs": [],
   "source": [
    "# Lines below will give you a hint or solution code\n",
    "#step_3.a.hint()\n",
    "#step_3.a.solution()"
   ]
  },
  {
   "cell_type": "markdown",
   "id": "7f293820",
   "metadata": {
    "papermill": {
     "duration": 0.04084,
     "end_time": "2022-05-11T15:10:39.103186",
     "exception": false,
     "start_time": "2022-05-11T15:10:39.062346",
     "status": "completed"
    },
    "tags": []
   },
   "source": [
    "Run the next code cell without changes to obtain the MAE for this approach."
   ]
  },
  {
   "cell_type": "code",
   "execution_count": 15,
   "id": "acb6da48",
   "metadata": {
    "execution": {
     "iopub.execute_input": "2022-05-11T15:10:39.186059Z",
     "iopub.status.busy": "2022-05-11T15:10:39.185754Z",
     "iopub.status.idle": "2022-05-11T15:10:40.434216Z",
     "shell.execute_reply": "2022-05-11T15:10:40.433038Z"
    },
    "papermill": {
     "duration": 1.292681,
     "end_time": "2022-05-11T15:10:40.436373",
     "exception": false,
     "start_time": "2022-05-11T15:10:39.143692",
     "status": "completed"
    },
    "tags": []
   },
   "outputs": [
    {
     "name": "stdout",
     "output_type": "stream",
     "text": [
      "MAE (Imputation):\n",
      "18062.894611872147\n"
     ]
    }
   ],
   "source": [
    "print(\"MAE (Imputation):\")\n",
    "print(score_dataset(imputed_X_train, imputed_X_valid, y_train, y_valid))"
   ]
  },
  {
   "cell_type": "markdown",
   "id": "5c992125",
   "metadata": {
    "papermill": {
     "duration": 0.04209,
     "end_time": "2022-05-11T15:10:40.520353",
     "exception": false,
     "start_time": "2022-05-11T15:10:40.478263",
     "status": "completed"
    },
    "tags": []
   },
   "source": [
    "### Part B\n",
    "\n",
    "Compare the MAE from each approach.  Does anything surprise you about the results?  Why do you think one approach performed better than the other?"
   ]
  },
  {
   "cell_type": "code",
   "execution_count": 16,
   "id": "05c6d733",
   "metadata": {
    "execution": {
     "iopub.execute_input": "2022-05-11T15:10:40.604910Z",
     "iopub.status.busy": "2022-05-11T15:10:40.604344Z",
     "iopub.status.idle": "2022-05-11T15:10:40.612055Z",
     "shell.execute_reply": "2022-05-11T15:10:40.611192Z"
    },
    "papermill": {
     "duration": 0.052599,
     "end_time": "2022-05-11T15:10:40.614218",
     "exception": false,
     "start_time": "2022-05-11T15:10:40.561619",
     "status": "completed"
    },
    "tags": []
   },
   "outputs": [
    {
     "data": {
      "application/javascript": [
       "parent.postMessage({\"jupyterEvent\": \"custom.exercise_interaction\", \"data\": {\"outcomeType\": 1, \"valueTowardsCompletion\": 1.0, \"interactionType\": 1, \"questionType\": 4, \"questionId\": \"3.2_ImputeThought\", \"learnToolsVersion\": \"0.3.4\", \"failureMessage\": \"\", \"exceptionClass\": \"\", \"trace\": \"\"}}, \"*\")"
      ],
      "text/plain": [
       "<IPython.core.display.Javascript object>"
      ]
     },
     "metadata": {},
     "output_type": "display_data"
    },
    {
     "data": {
      "text/markdown": [
       "<span style=\"color:#33cc33\">Correct:</span> \n",
       "\n",
       "Given that thre are so few missing values in the dataset, we'd expect imputation to perform better than dropping columns entirely.  However, we see that dropping columns performs slightly better!  While this can probably partially be attributed to noise in the dataset, another potential explanation is that the imputation method is not a great match to this dataset.  That is, maybe instead of filling in the mean value, it makes more sense to set every missing value to a value of 0, to fill in the most frequently encountered value, or to use some other method.  For instance, consider the `GarageYrBlt` column (which indicates the year that the garage was built).  It's likely that in some cases, a missing value could indicate a house that does not have a garage.  Does it make more sense to fill in the median value along each column in this case?  Or could we get better results by filling in the minimum value along each column?  It's not quite clear what's best in this case, but perhaps we can rule out some options immediately - for instance, setting missing values in this column to 0 is likely to yield horrible results!"
      ],
      "text/plain": [
       "Correct: \n",
       "\n",
       "Given that thre are so few missing values in the dataset, we'd expect imputation to perform better than dropping columns entirely.  However, we see that dropping columns performs slightly better!  While this can probably partially be attributed to noise in the dataset, another potential explanation is that the imputation method is not a great match to this dataset.  That is, maybe instead of filling in the mean value, it makes more sense to set every missing value to a value of 0, to fill in the most frequently encountered value, or to use some other method.  For instance, consider the `GarageYrBlt` column (which indicates the year that the garage was built).  It's likely that in some cases, a missing value could indicate a house that does not have a garage.  Does it make more sense to fill in the median value along each column in this case?  Or could we get better results by filling in the minimum value along each column?  It's not quite clear what's best in this case, but perhaps we can rule out some options immediately - for instance, setting missing values in this column to 0 is likely to yield horrible results!"
      ]
     },
     "metadata": {},
     "output_type": "display_data"
    }
   ],
   "source": [
    "# Check your answer (Run this code cell to receive credit!)\n",
    "step_3.b.check()"
   ]
  },
  {
   "cell_type": "code",
   "execution_count": 17,
   "id": "f4f81615",
   "metadata": {
    "execution": {
     "iopub.execute_input": "2022-05-11T15:10:40.705174Z",
     "iopub.status.busy": "2022-05-11T15:10:40.704584Z",
     "iopub.status.idle": "2022-05-11T15:10:40.708072Z",
     "shell.execute_reply": "2022-05-11T15:10:40.707224Z"
    },
    "papermill": {
     "duration": 0.050577,
     "end_time": "2022-05-11T15:10:40.710103",
     "exception": false,
     "start_time": "2022-05-11T15:10:40.659526",
     "status": "completed"
    },
    "tags": []
   },
   "outputs": [],
   "source": [
    "#step_3.b.hint()"
   ]
  },
  {
   "cell_type": "markdown",
   "id": "7f900fb6",
   "metadata": {
    "papermill": {
     "duration": 0.042822,
     "end_time": "2022-05-11T15:10:40.796528",
     "exception": false,
     "start_time": "2022-05-11T15:10:40.753706",
     "status": "completed"
    },
    "tags": []
   },
   "source": [
    "# Step 4: Generate test predictions\n",
    "\n",
    "In this final step, you'll use any approach of your choosing to deal with missing values.  Once you've preprocessed the training and validation features, you'll train and evaluate a random forest model.  Then, you'll preprocess the test data before generating predictions that can be submitted to the competition!\n",
    "\n",
    "### Part A\n",
    "\n",
    "Use the next code cell to preprocess the training and validation data.  Set the preprocessed DataFrames to `final_X_train` and `final_X_valid`.  **You can use any approach of your choosing here!**  in order for this step to be marked as correct, you need only ensure:\n",
    "- the preprocessed DataFrames have the same number of columns,\n",
    "- the preprocessed DataFrames have no missing values, \n",
    "- `final_X_train` and `y_train` have the same number of rows, and\n",
    "- `final_X_valid` and `y_valid` have the same number of rows."
   ]
  },
  {
   "cell_type": "code",
   "execution_count": 18,
   "id": "f17f65a2",
   "metadata": {
    "execution": {
     "iopub.execute_input": "2022-05-11T15:10:40.884296Z",
     "iopub.status.busy": "2022-05-11T15:10:40.883905Z",
     "iopub.status.idle": "2022-05-11T15:10:40.914531Z",
     "shell.execute_reply": "2022-05-11T15:10:40.913725Z"
    },
    "papermill": {
     "duration": 0.077026,
     "end_time": "2022-05-11T15:10:40.916479",
     "exception": false,
     "start_time": "2022-05-11T15:10:40.839453",
     "status": "completed"
    },
    "tags": []
   },
   "outputs": [
    {
     "data": {
      "application/javascript": [
       "parent.postMessage({\"jupyterEvent\": \"custom.exercise_interaction\", \"data\": {\"outcomeType\": 1, \"valueTowardsCompletion\": 1.0, \"interactionType\": 1, \"questionType\": 2, \"questionId\": \"4.1_PredsCodeA\", \"learnToolsVersion\": \"0.3.4\", \"failureMessage\": \"\", \"exceptionClass\": \"\", \"trace\": \"\"}}, \"*\")"
      ],
      "text/plain": [
       "<IPython.core.display.Javascript object>"
      ]
     },
     "metadata": {},
     "output_type": "display_data"
    },
    {
     "data": {
      "text/markdown": [
       "<span style=\"color:#33cc33\">Correct</span>"
      ],
      "text/plain": [
       "Correct"
      ]
     },
     "metadata": {},
     "output_type": "display_data"
    }
   ],
   "source": [
    "# Preprocessed training and validation features\n",
    "final_imputer = SimpleImputer(strategy='median')\n",
    "final_X_train = pd.DataFrame(final_imputer.fit_transform(X_train))\n",
    "final_X_valid = pd.DataFrame(final_imputer.transform(X_valid))\n",
    "\n",
    "# Imputation removed column names; put them back\n",
    "final_X_train.columns = X_train.columns\n",
    "final_X_valid.columns = X_valid.columns\n",
    "# Check your answers\n",
    "step_4.a.check()"
   ]
  },
  {
   "cell_type": "code",
   "execution_count": 19,
   "id": "1f413b7f",
   "metadata": {
    "execution": {
     "iopub.execute_input": "2022-05-11T15:10:41.009075Z",
     "iopub.status.busy": "2022-05-11T15:10:41.008658Z",
     "iopub.status.idle": "2022-05-11T15:10:41.016225Z",
     "shell.execute_reply": "2022-05-11T15:10:41.015377Z"
    },
    "papermill": {
     "duration": 0.055295,
     "end_time": "2022-05-11T15:10:41.018163",
     "exception": false,
     "start_time": "2022-05-11T15:10:40.962868",
     "status": "completed"
    },
    "tags": []
   },
   "outputs": [
    {
     "data": {
      "application/javascript": [
       "parent.postMessage({\"jupyterEvent\": \"custom.exercise_interaction\", \"data\": {\"interactionType\": 3, \"questionType\": 2, \"questionId\": \"4.1_PredsCodeA\", \"learnToolsVersion\": \"0.3.4\", \"valueTowardsCompletion\": 0.0, \"failureMessage\": \"\", \"exceptionClass\": \"\", \"trace\": \"\", \"outcomeType\": 4}}, \"*\")"
      ],
      "text/plain": [
       "<IPython.core.display.Javascript object>"
      ]
     },
     "metadata": {},
     "output_type": "display_data"
    },
    {
     "data": {
      "text/markdown": [
       "<span style=\"color:#33cc99\">Solution:</span> \n",
       "```python\n",
       "# Imputation\n",
       "final_imputer = SimpleImputer(strategy='median')\n",
       "final_X_train = pd.DataFrame(final_imputer.fit_transform(X_train))\n",
       "final_X_valid = pd.DataFrame(final_imputer.transform(X_valid))\n",
       "\n",
       "# Imputation removed column names; put them back\n",
       "final_X_train.columns = X_train.columns\n",
       "final_X_valid.columns = X_valid.columns\n",
       "\n",
       "```"
      ],
      "text/plain": [
       "Solution: \n",
       "```python\n",
       "# Imputation\n",
       "final_imputer = SimpleImputer(strategy='median')\n",
       "final_X_train = pd.DataFrame(final_imputer.fit_transform(X_train))\n",
       "final_X_valid = pd.DataFrame(final_imputer.transform(X_valid))\n",
       "\n",
       "# Imputation removed column names; put them back\n",
       "final_X_train.columns = X_train.columns\n",
       "final_X_valid.columns = X_valid.columns\n",
       "\n",
       "```"
      ]
     },
     "metadata": {},
     "output_type": "display_data"
    }
   ],
   "source": [
    "# Lines below will give you a hint or solution code\n",
    "#step_4.a.hint()\n",
    "step_4.a.solution()"
   ]
  },
  {
   "cell_type": "markdown",
   "id": "5ac769a9",
   "metadata": {
    "papermill": {
     "duration": 0.048675,
     "end_time": "2022-05-11T15:10:41.113166",
     "exception": false,
     "start_time": "2022-05-11T15:10:41.064491",
     "status": "completed"
    },
    "tags": []
   },
   "source": [
    "Run the next code cell to train and evaluate a random forest model.  (*Note that we don't use the `score_dataset()` function above, because we will soon use the trained model to generate test predictions!*)"
   ]
  },
  {
   "cell_type": "code",
   "execution_count": 20,
   "id": "46e6c4ed",
   "metadata": {
    "execution": {
     "iopub.execute_input": "2022-05-11T15:10:41.209741Z",
     "iopub.status.busy": "2022-05-11T15:10:41.209206Z",
     "iopub.status.idle": "2022-05-11T15:10:42.455404Z",
     "shell.execute_reply": "2022-05-11T15:10:42.454727Z"
    },
    "papermill": {
     "duration": 1.295034,
     "end_time": "2022-05-11T15:10:42.457391",
     "exception": false,
     "start_time": "2022-05-11T15:10:41.162357",
     "status": "completed"
    },
    "tags": []
   },
   "outputs": [
    {
     "name": "stdout",
     "output_type": "stream",
     "text": [
      "MAE (Your approach):\n",
      "17791.59899543379\n"
     ]
    }
   ],
   "source": [
    "# Define and fit model\n",
    "model = RandomForestRegressor(n_estimators=100, random_state=0)\n",
    "model.fit(final_X_train, y_train)\n",
    "\n",
    "# Get validation predictions and MAE\n",
    "preds_valid = model.predict(final_X_valid)\n",
    "print(\"MAE (Your approach):\")\n",
    "print(mean_absolute_error(y_valid, preds_valid))"
   ]
  },
  {
   "cell_type": "markdown",
   "id": "428ffec5",
   "metadata": {
    "papermill": {
     "duration": 0.045687,
     "end_time": "2022-05-11T15:10:42.550090",
     "exception": false,
     "start_time": "2022-05-11T15:10:42.504403",
     "status": "completed"
    },
    "tags": []
   },
   "source": [
    "### Part B\n",
    "\n",
    "Use the next code cell to preprocess your test data.  Make sure that you use a method that agrees with how you preprocessed the training and validation data, and set the preprocessed test features to `final_X_test`.\n",
    "\n",
    "Then, use the preprocessed test features and the trained model to generate test predictions in `preds_test`.\n",
    "\n",
    "In order for this step to be marked correct, you need only ensure:\n",
    "- the preprocessed test DataFrame has no missing values, and\n",
    "- `final_X_test` has the same number of rows as `X_test`."
   ]
  },
  {
   "cell_type": "code",
   "execution_count": 21,
   "id": "67d3e44f",
   "metadata": {
    "execution": {
     "iopub.execute_input": "2022-05-11T15:10:42.644767Z",
     "iopub.status.busy": "2022-05-11T15:10:42.644279Z",
     "iopub.status.idle": "2022-05-11T15:10:42.705740Z",
     "shell.execute_reply": "2022-05-11T15:10:42.704571Z"
    },
    "papermill": {
     "duration": 0.111214,
     "end_time": "2022-05-11T15:10:42.707888",
     "exception": false,
     "start_time": "2022-05-11T15:10:42.596674",
     "status": "completed"
    },
    "tags": []
   },
   "outputs": [
    {
     "name": "stderr",
     "output_type": "stream",
     "text": [
      "/opt/conda/lib/python3.7/site-packages/sklearn/base.py:451: UserWarning: X does not have valid feature names, but RandomForestRegressor was fitted with feature names\n",
      "  \"X does not have valid feature names, but\"\n"
     ]
    },
    {
     "data": {
      "application/javascript": [
       "parent.postMessage({\"jupyterEvent\": \"custom.exercise_interaction\", \"data\": {\"outcomeType\": 1, \"valueTowardsCompletion\": 1.0, \"interactionType\": 1, \"questionType\": 2, \"questionId\": \"4.2_PredsCodeB\", \"learnToolsVersion\": \"0.3.4\", \"failureMessage\": \"\", \"exceptionClass\": \"\", \"trace\": \"\"}}, \"*\")"
      ],
      "text/plain": [
       "<IPython.core.display.Javascript object>"
      ]
     },
     "metadata": {},
     "output_type": "display_data"
    },
    {
     "data": {
      "text/markdown": [
       "<span style=\"color:#33cc33\">Correct</span>"
      ],
      "text/plain": [
       "Correct"
      ]
     },
     "metadata": {},
     "output_type": "display_data"
    }
   ],
   "source": [
    "# Fill in the line below: preprocess test data\n",
    "final_X_test = pd.DataFrame(final_imputer.transform(X_test))\n",
    "\n",
    "# Get test predictions\n",
    "preds_test = model.predict(final_X_test)\n",
    "\n",
    "\n",
    "# Check your answers\n",
    "step_4.b.check()"
   ]
  },
  {
   "cell_type": "code",
   "execution_count": 22,
   "id": "f1930907",
   "metadata": {
    "execution": {
     "iopub.execute_input": "2022-05-11T15:10:42.805288Z",
     "iopub.status.busy": "2022-05-11T15:10:42.804746Z",
     "iopub.status.idle": "2022-05-11T15:10:42.807916Z",
     "shell.execute_reply": "2022-05-11T15:10:42.807176Z"
    },
    "papermill": {
     "duration": 0.054179,
     "end_time": "2022-05-11T15:10:42.809748",
     "exception": false,
     "start_time": "2022-05-11T15:10:42.755569",
     "status": "completed"
    },
    "tags": []
   },
   "outputs": [],
   "source": [
    "# Lines below will give you a hint or solution code\n",
    "#step_4.b.hint()\n",
    "#step_4.b.solution()"
   ]
  },
  {
   "cell_type": "markdown",
   "id": "2ed4ea38",
   "metadata": {
    "papermill": {
     "duration": 0.048323,
     "end_time": "2022-05-11T15:10:42.907269",
     "exception": false,
     "start_time": "2022-05-11T15:10:42.858946",
     "status": "completed"
    },
    "tags": []
   },
   "source": [
    "Run the next code cell without changes to save your results to a CSV file that can be submitted directly to the competition."
   ]
  },
  {
   "cell_type": "code",
   "execution_count": 23,
   "id": "4a3e8835",
   "metadata": {
    "execution": {
     "iopub.execute_input": "2022-05-11T15:10:43.005461Z",
     "iopub.status.busy": "2022-05-11T15:10:43.004902Z",
     "iopub.status.idle": "2022-05-11T15:10:43.017654Z",
     "shell.execute_reply": "2022-05-11T15:10:43.016688Z"
    },
    "papermill": {
     "duration": 0.065067,
     "end_time": "2022-05-11T15:10:43.020088",
     "exception": false,
     "start_time": "2022-05-11T15:10:42.955021",
     "status": "completed"
    },
    "tags": []
   },
   "outputs": [],
   "source": [
    "# Save test predictions to file\n",
    "output = pd.DataFrame({'Id': X_test.index,\n",
    "                       'SalePrice': preds_test})\n",
    "output.to_csv('submission.csv', index=False)"
   ]
  },
  {
   "cell_type": "markdown",
   "id": "bb6ba527",
   "metadata": {
    "papermill": {
     "duration": 0.047518,
     "end_time": "2022-05-11T15:10:43.116585",
     "exception": false,
     "start_time": "2022-05-11T15:10:43.069067",
     "status": "completed"
    },
    "tags": []
   },
   "source": [
    "# Submit your results\n",
    "\n",
    "Once you have successfully completed Step 4, you're ready to submit your results to the leaderboard!  (_You also learned how to do this in the previous exercise.  If you need a reminder of how to do this, please use the instructions below._)  \n",
    "\n",
    "First, you'll need to join the competition if you haven't already.  So open a new window by clicking on [this link](https://www.kaggle.com/c/home-data-for-ml-course).  Then click on the **Join Competition** button.\n",
    "\n",
    "![join competition image](https://i.imgur.com/wLmFtH3.png)\n",
    "\n",
    "Next, follow the instructions below:\n",
    "1. Begin by clicking on the **Save Version** button in the top right corner of the window.  This will generate a pop-up window.  \n",
    "2. Ensure that the **Save and Run All** option is selected, and then click on the **Save** button.\n",
    "3. This generates a window in the bottom left corner of the notebook.  After it has finished running, click on the number to the right of the **Save Version** button.  This pulls up a list of versions on the right of the screen.  Click on the ellipsis **(...)** to the right of the most recent version, and select **Open in Viewer**.  This brings you into view mode of the same page. You will need to scroll down to get back to these instructions.\n",
    "4. Click on the **Output** tab on the right of the screen.  Then, click on the file you would like to submit, and click on the **Submit** button to submit your results to the leaderboard.\n",
    "\n",
    "You have now successfully submitted to the competition!\n",
    "\n",
    "If you want to keep working to improve your performance, select the **Edit** button in the top right of the screen. Then you can change your code and repeat the process. There's a lot of room to improve, and you will climb up the leaderboard as you work.\n",
    "\n",
    "\n",
    "# Keep going\n",
    "\n",
    "Move on to learn what **[categorical variables](https://www.kaggle.com/alexisbcook/categorical-variables)** are, along with how to incorporate them into your machine learning models.  Categorical variables are very common in real-world data, but you'll get an error if you try to plug them into your models without processing them first!"
   ]
  },
  {
   "cell_type": "markdown",
   "id": "3b596e0a",
   "metadata": {
    "papermill": {
     "duration": 0.047522,
     "end_time": "2022-05-11T15:10:43.212191",
     "exception": false,
     "start_time": "2022-05-11T15:10:43.164669",
     "status": "completed"
    },
    "tags": []
   },
   "source": [
    "---\n",
    "\n",
    "\n",
    "\n",
    "\n",
    "*Have questions or comments? Visit the [course discussion forum](https://www.kaggle.com/learn/intermediate-machine-learning/discussion) to chat with other learners.*"
   ]
  }
 ],
 "metadata": {
  "kernelspec": {
   "display_name": "Python 3",
   "language": "python",
   "name": "python3"
  },
  "language_info": {
   "codemirror_mode": {
    "name": "ipython",
    "version": 3
   },
   "file_extension": ".py",
   "mimetype": "text/x-python",
   "name": "python",
   "nbconvert_exporter": "python",
   "pygments_lexer": "ipython3",
   "version": "3.7.12"
  },
  "papermill": {
   "default_parameters": {},
   "duration": 19.740849,
   "end_time": "2022-05-11T15:10:43.981154",
   "environment_variables": {},
   "exception": null,
   "input_path": "__notebook__.ipynb",
   "output_path": "__notebook__.ipynb",
   "parameters": {},
   "start_time": "2022-05-11T15:10:24.240305",
   "version": "2.3.4"
  }
 },
 "nbformat": 4,
 "nbformat_minor": 5
}
